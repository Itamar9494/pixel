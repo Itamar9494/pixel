{
 "cells": [
  {
   "cell_type": "code",
   "execution_count": 2,
   "metadata": {},
   "outputs": [],
   "source": [
    "#IMG-20210810-WA0070.jpg\n",
    "from PIL import Image\n",
    "img = Image.open(\"files/IMG-20210810-WA0070.jpg\")\n",
    "img.show()"
   ]
  },
  {
   "cell_type": "code",
   "execution_count": 4,
   "metadata": {},
   "outputs": [
    {
     "ename": "ImportError",
     "evalue": "cannot import name 'cv2' from 'PIL' (C:\\Users\\itamar\\anaconda3\\lib\\site-packages\\PIL\\__init__.py)",
     "output_type": "error",
     "traceback": [
      "\u001b[1;31m---------------------------------------------------------------------------\u001b[0m",
      "\u001b[1;31mImportError\u001b[0m                               Traceback (most recent call last)",
      "\u001b[1;32m<ipython-input-4-3699aed323df>\u001b[0m in \u001b[0;36m<module>\u001b[1;34m\u001b[0m\n\u001b[1;32m----> 1\u001b[1;33m \u001b[1;32mfrom\u001b[0m \u001b[0mPIL\u001b[0m \u001b[1;32mimport\u001b[0m \u001b[0mcv2\u001b[0m\u001b[1;33m\u001b[0m\u001b[1;33m\u001b[0m\u001b[0m\n\u001b[0m\u001b[0;32m      2\u001b[0m \u001b[1;33m\u001b[0m\u001b[0m\n\u001b[0;32m      3\u001b[0m \u001b[1;31m# קריאת התמונה\u001b[0m\u001b[1;33m\u001b[0m\u001b[1;33m\u001b[0m\u001b[1;33m\u001b[0m\u001b[0m\n\u001b[0;32m      4\u001b[0m \u001b[0mimg\u001b[0m \u001b[1;33m=\u001b[0m \u001b[0mcv2\u001b[0m\u001b[1;33m.\u001b[0m\u001b[0mimread\u001b[0m\u001b[1;33m(\u001b[0m\u001b[1;34m\"files/IMG-20210810-WA0070.jpg\"\u001b[0m\u001b[1;33m)\u001b[0m\u001b[1;33m\u001b[0m\u001b[1;33m\u001b[0m\u001b[0m\n\u001b[0;32m      5\u001b[0m \u001b[1;33m\u001b[0m\u001b[0m\n",
      "\u001b[1;31mImportError\u001b[0m: cannot import name 'cv2' from 'PIL' (C:\\Users\\itamar\\anaconda3\\lib\\site-packages\\PIL\\__init__.py)"
     ]
    }
   ],
   "source": [
    "def image_shrink_1(im, lines, columns):\n",
    "    shape = im.shape\n",
    "    lin_fac = shape[0]//lines\n",
    "    col_fac = shape[1]//columns\n",
    "    new_mat = np.zeros((shape[0]//lin_fac, shape[1]//col_fac))\n",
    "    for i in range(new_mat.shape[0]):\n",
    "        for j in range(new_mat.shape[1]):\n",
    "            line_range = range(i*lin_fac,min((i+1)*lin_fac,im.shape[1]))\n",
    "            col_range = range(j*col_fac,min((j+1)*col_fac,im.shape[1]))\n",
    "            new_mat[i,j] = im[i*lin_fac:min((i+1)*lin_fac,im.shape[1]),j*col_fac:min((j+1)*col_fac,im.shape[1])].mean()\n",
    "    return new_mat\n",
    "\n",
    "def image_shrink_2(im, lines, columns):\n",
    "    shape = im.shape\n",
    "    lin_fac = shape[0]//lines\n",
    "    col_fac = shape[1]//columns\n",
    "    new_mat = np.zeros((shape[0]//lin_fac, shape[1]//col_fac))\n",
    "    for i in range(new_mat.shape[0]):\n",
    "        for j in range(new_mat.shape[1]):\n",
    "            line_range = range(max(0, i*lin_fac),min((i+1)*lin_fac,im.shape[1]))\n",
    "            col_range = range(max(0, j*col_fac),min((j+1)*col_fac,im.shape[1]))\n",
    "            new_mat[i,j] = im[i*lin_fac:min((i+1)*lin_fac,im.shape[1]),j*col_fac:min((j+1)*col_fac,im.shape[1])].mean()\n",
    "    return new_mat\n",
    "\n",
    "def image_shrink_3(im, lines, columns):\n",
    "    shape = im.shape\n",
    "    lin_fac = shape[0]//lines\n",
    "    col_fac = shape[1]//columns\n",
    "    new_mat = np.zeros((shape[0]//lin_fac, shape[1]//col_fac))\n",
    "    for i in range(new_mat.shape[0]):\n",
    "        for j in range(new_mat.shape[1]):\n",
    "            line_range = range(max(0, i*lin_fac//2),min((i+1)*lin_fac//2,im.shape[1]))\n",
    "            col_range = range(max(0, j*col_fac//2),min((j+1)*col_fac//2,im.shape[1]))\n",
    "            new_mat[i,j] = im[i*lin_fac:min((i+1)*lin_fac,im.shape[1]),j*col_fac:min((j+1)*col_fac,im.shape[1])].mean()\n",
    "    return new_mat\n",
    "\n",
    "\n",
    "# im = imageio.imread('files/IMG-20210810-WA0070.jpg')\n",
    "# mat_1 = image_shrink_1(im, 100, 160)\n",
    "# mat_11 = im2numbers(mat_1, 7)\n",
    "# mat_2 = image_shrink_2(im, 100, 160)\n",
    "# mat_22 = im2numbers(mat_2, 7)\n",
    "# mat_3 = image_shrink_3(im, 100, 160)\n",
    "# mat_33 = im2numbers(mat_3, 7)\n",
    "# plt.figure('aaa')\n",
    "# plt.imshow(im, cmap=plt.cm.gray)\n",
    "# plt.show()\n",
    "# plt.figure()\n",
    "# plt.imshow(mat_1, cmap=plt.cm.gray)\n",
    "# plt.show()\n",
    "# plt.figure()\n",
    "# plt.imshow(mat_11, cmap=plt.cm.gray)\n",
    "# plt.show()\n",
    "# plt.figure()\n",
    "# plt.imshow(mat_2, cmap=plt.cm.gray)\n",
    "# plt.show()\n",
    "# plt.figure()\n",
    "# plt.imshow(mat_22, cmap=plt.cm.gray)\n",
    "# plt.show()\n",
    "# plt.figure()\n",
    "# plt.imshow(mat_3, cmap=plt.cm.gray)\n",
    "# plt.show()\n",
    "# plt.figure()\n",
    "# plt.imshow(mat_33, cmap=plt.cm.gray)\n",
    "# plt.show()"
   ]
  },
  {
   "cell_type": "code",
   "execution_count": 5,
   "metadata": {},
   "outputs": [
    {
     "ename": "NameError",
     "evalue": "name 'show_picture' is not defined",
     "output_type": "error",
     "traceback": [
      "\u001b[1;31m---------------------------------------------------------------------------\u001b[0m",
      "\u001b[1;31mNameError\u001b[0m                                 Traceback (most recent call last)",
      "\u001b[1;32m<ipython-input-5-725cdb810237>\u001b[0m in \u001b[0;36m<module>\u001b[1;34m\u001b[0m\n\u001b[0;32m      1\u001b[0m \u001b[0mfile\u001b[0m \u001b[1;33m=\u001b[0m \u001b[1;34m'WhatsApp Image 2022-09-07 at 17.14.23.jpeg'\u001b[0m\u001b[1;33m\u001b[0m\u001b[1;33m\u001b[0m\u001b[0m\n\u001b[1;32m----> 2\u001b[1;33m \u001b[0mshow_picture\u001b[0m\u001b[1;33m(\u001b[0m\u001b[0mfile\u001b[0m\u001b[1;33m)\u001b[0m\u001b[1;33m\u001b[0m\u001b[1;33m\u001b[0m\u001b[0m\n\u001b[0m",
      "\u001b[1;31mNameError\u001b[0m: name 'show_picture' is not defined"
     ]
    }
   ],
   "source": [
    "file = 'WhatsApp Image 2022-09-07 at 17.14.23.jpeg'\n",
    "show_picture(file)\n",
    "#WhatsApp Image 2022-09-07 at 17.14.25.jpeg\n",
    "show_picture()\n",
    "#WhatsApp Image 2022-09-07 at 17.19.51.jpeg\n",
    "show_picture()\n",
    "#WhatsApp Image 2022-09-07 at 17.20.12.jpeg\n",
    "show_picture()\n",
    "#WhatsApp Image 2022-09-07 at 17.26.05.jpeg\n",
    "show_picture()\n"
   ]
  },
  {
   "cell_type": "code",
   "execution_count": 8,
   "metadata": {},
   "outputs": [
    {
     "ename": "FileNotFoundError",
     "evalue": "[Errno 2] No such file or directory: '/export files/zxc.csv'",
     "output_type": "error",
     "traceback": [
      "\u001b[1;31m---------------------------------------------------------------------------\u001b[0m",
      "\u001b[1;31mFileNotFoundError\u001b[0m                         Traceback (most recent call last)",
      "\u001b[1;32m<ipython-input-8-f6d304078a2f>\u001b[0m in \u001b[0;36m<module>\u001b[1;34m\u001b[0m\n\u001b[0;32m      6\u001b[0m \u001b[1;31m# המרת DataFrame לקובץ CSV ושמירת הקובץ בתיקייה מסוימת\u001b[0m\u001b[1;33m\u001b[0m\u001b[1;33m\u001b[0m\u001b[1;33m\u001b[0m\u001b[0m\n\u001b[0;32m      7\u001b[0m \u001b[0mpath\u001b[0m \u001b[1;33m=\u001b[0m \u001b[1;34m'/export files/zxc.csv'\u001b[0m\u001b[1;33m\u001b[0m\u001b[1;33m\u001b[0m\u001b[0m\n\u001b[1;32m----> 8\u001b[1;33m \u001b[0mdf\u001b[0m\u001b[1;33m.\u001b[0m\u001b[0mto_csv\u001b[0m\u001b[1;33m(\u001b[0m\u001b[0mpath_or_buf\u001b[0m\u001b[1;33m=\u001b[0m\u001b[0mpath\u001b[0m\u001b[1;33m,\u001b[0m \u001b[0mindex\u001b[0m\u001b[1;33m=\u001b[0m\u001b[1;32mFalse\u001b[0m\u001b[1;33m)\u001b[0m\u001b[1;33m\u001b[0m\u001b[1;33m\u001b[0m\u001b[0m\n\u001b[0m",
      "\u001b[1;32m~\\anaconda3\\lib\\site-packages\\pandas\\core\\generic.py\u001b[0m in \u001b[0;36mto_csv\u001b[1;34m(self, path_or_buf, sep, na_rep, float_format, columns, header, index, index_label, mode, encoding, compression, quoting, quotechar, line_terminator, chunksize, date_format, doublequote, escapechar, decimal, errors)\u001b[0m\n\u001b[0;32m   3168\u001b[0m             \u001b[0mdecimal\u001b[0m\u001b[1;33m=\u001b[0m\u001b[0mdecimal\u001b[0m\u001b[1;33m,\u001b[0m\u001b[1;33m\u001b[0m\u001b[1;33m\u001b[0m\u001b[0m\n\u001b[0;32m   3169\u001b[0m         )\n\u001b[1;32m-> 3170\u001b[1;33m         \u001b[0mformatter\u001b[0m\u001b[1;33m.\u001b[0m\u001b[0msave\u001b[0m\u001b[1;33m(\u001b[0m\u001b[1;33m)\u001b[0m\u001b[1;33m\u001b[0m\u001b[1;33m\u001b[0m\u001b[0m\n\u001b[0m\u001b[0;32m   3171\u001b[0m \u001b[1;33m\u001b[0m\u001b[0m\n\u001b[0;32m   3172\u001b[0m         \u001b[1;32mif\u001b[0m \u001b[0mpath_or_buf\u001b[0m \u001b[1;32mis\u001b[0m \u001b[1;32mNone\u001b[0m\u001b[1;33m:\u001b[0m\u001b[1;33m\u001b[0m\u001b[1;33m\u001b[0m\u001b[0m\n",
      "\u001b[1;32m~\\anaconda3\\lib\\site-packages\\pandas\\io\\formats\\csvs.py\u001b[0m in \u001b[0;36msave\u001b[1;34m(self)\u001b[0m\n\u001b[0;32m    183\u001b[0m             \u001b[0mclose\u001b[0m \u001b[1;33m=\u001b[0m \u001b[1;32mFalse\u001b[0m\u001b[1;33m\u001b[0m\u001b[1;33m\u001b[0m\u001b[0m\n\u001b[0;32m    184\u001b[0m         \u001b[1;32melse\u001b[0m\u001b[1;33m:\u001b[0m\u001b[1;33m\u001b[0m\u001b[1;33m\u001b[0m\u001b[0m\n\u001b[1;32m--> 185\u001b[1;33m             f, handles = get_handle(\n\u001b[0m\u001b[0;32m    186\u001b[0m                 \u001b[0mself\u001b[0m\u001b[1;33m.\u001b[0m\u001b[0mpath_or_buf\u001b[0m\u001b[1;33m,\u001b[0m\u001b[1;33m\u001b[0m\u001b[1;33m\u001b[0m\u001b[0m\n\u001b[0;32m    187\u001b[0m                 \u001b[0mself\u001b[0m\u001b[1;33m.\u001b[0m\u001b[0mmode\u001b[0m\u001b[1;33m,\u001b[0m\u001b[1;33m\u001b[0m\u001b[1;33m\u001b[0m\u001b[0m\n",
      "\u001b[1;32m~\\anaconda3\\lib\\site-packages\\pandas\\io\\common.py\u001b[0m in \u001b[0;36mget_handle\u001b[1;34m(path_or_buf, mode, encoding, compression, memory_map, is_text, errors)\u001b[0m\n\u001b[0;32m    491\u001b[0m         \u001b[1;32mif\u001b[0m \u001b[0mencoding\u001b[0m\u001b[1;33m:\u001b[0m\u001b[1;33m\u001b[0m\u001b[1;33m\u001b[0m\u001b[0m\n\u001b[0;32m    492\u001b[0m             \u001b[1;31m# Encoding\u001b[0m\u001b[1;33m\u001b[0m\u001b[1;33m\u001b[0m\u001b[1;33m\u001b[0m\u001b[0m\n\u001b[1;32m--> 493\u001b[1;33m             \u001b[0mf\u001b[0m \u001b[1;33m=\u001b[0m \u001b[0mopen\u001b[0m\u001b[1;33m(\u001b[0m\u001b[0mpath_or_buf\u001b[0m\u001b[1;33m,\u001b[0m \u001b[0mmode\u001b[0m\u001b[1;33m,\u001b[0m \u001b[0mencoding\u001b[0m\u001b[1;33m=\u001b[0m\u001b[0mencoding\u001b[0m\u001b[1;33m,\u001b[0m \u001b[0merrors\u001b[0m\u001b[1;33m=\u001b[0m\u001b[0merrors\u001b[0m\u001b[1;33m,\u001b[0m \u001b[0mnewline\u001b[0m\u001b[1;33m=\u001b[0m\u001b[1;34m\"\"\u001b[0m\u001b[1;33m)\u001b[0m\u001b[1;33m\u001b[0m\u001b[1;33m\u001b[0m\u001b[0m\n\u001b[0m\u001b[0;32m    494\u001b[0m         \u001b[1;32melif\u001b[0m \u001b[0mis_text\u001b[0m\u001b[1;33m:\u001b[0m\u001b[1;33m\u001b[0m\u001b[1;33m\u001b[0m\u001b[0m\n\u001b[0;32m    495\u001b[0m             \u001b[1;31m# No explicit encoding\u001b[0m\u001b[1;33m\u001b[0m\u001b[1;33m\u001b[0m\u001b[1;33m\u001b[0m\u001b[0m\n",
      "\u001b[1;31mFileNotFoundError\u001b[0m: [Errno 2] No such file or directory: '/export files/zxc.csv'"
     ]
    }
   ],
   "source": [
    "import pandas as pd\n",
    "\n",
    "# יצירת DataFrame דמיוני\n",
    "df = pd.DataFrame({'שם': ['דן', 'שירה', 'יובל'], 'גיל': [25, 32, 18]})\n",
    "\n",
    "# המרת DataFrame לקובץ CSV ושמירת הקובץ בתיקייה מסוימת\n",
    "path = '/export files/zxc.csv'\n",
    "df.to_csv(path_or_buf=path, index=False)"
   ]
  },
  {
   "cell_type": "code",
   "execution_count": 13,
   "metadata": {},
   "outputs": [
    {
     "name": "stderr",
     "output_type": "stream",
     "text": [
      "Exception in Tkinter callback\n",
      "Traceback (most recent call last):\n",
      "  File \"C:\\Users\\itamar\\anaconda3\\lib\\tkinter\\__init__.py\", line 1880, in __call__\n",
      "    try:\n",
      "KeyboardInterrupt\n"
     ]
    }
   ],
   "source": [
    "import turtle\n",
    "\n",
    "def draw_cube(size):\n",
    "    for i in range(6):\n",
    "        turtle.forward(size)\n",
    "        turtle.left(90)\n",
    "        turtle.forward(size)\n",
    "        turtle.left(90)\n",
    "        turtle.forward(size)\n",
    "        turtle.left(90)\n",
    "        turtle.forward(size)\n",
    "        turtle.left(90)\n",
    "        turtle.left(30)\n",
    "\n",
    "turtle.speed(0) # הגדרת מהירות הציור של הצב\n",
    "draw_cube(100) # קריאה לפונקציה לציור קוביית משחק בגודל מסוים\n",
    "turtle.done() # סיום התוכנית"
   ]
  },
  {
   "cell_type": "code",
   "execution_count": 17,
   "metadata": {},
   "outputs": [],
   "source": [
    "def ppp(x):\n",
    "    print(x+5)\n",
    "if __name__ == \"__main__\":\n",
    "    ppp()"
   ]
  },
  {
   "cell_type": "code",
   "execution_count": 19,
   "metadata": {},
   "outputs": [
    {
     "ename": "NameError",
     "evalue": "name 'ppp' is not defined",
     "output_type": "error",
     "traceback": [
      "\u001b[1;31m---------------------------------------------------------------------------\u001b[0m",
      "\u001b[1;31mNameError\u001b[0m                                 Traceback (most recent call last)",
      "\u001b[1;32m<ipython-input-19-0d6aabdb043e>\u001b[0m in \u001b[0;36m<module>\u001b[1;34m\u001b[0m\n\u001b[1;32m----> 1\u001b[1;33m \u001b[0mppp\u001b[0m\u001b[1;33m(\u001b[0m\u001b[1;36m3\u001b[0m\u001b[1;33m)\u001b[0m\u001b[1;33m\u001b[0m\u001b[1;33m\u001b[0m\u001b[0m\n\u001b[0m",
      "\u001b[1;31mNameError\u001b[0m: name 'ppp' is not defined"
     ]
    }
   ],
   "source": [
    "ppp(3)"
   ]
  }
 ],
 "metadata": {
  "kernelspec": {
   "display_name": "Python 3",
   "language": "python",
   "name": "python3"
  },
  "language_info": {
   "codemirror_mode": {
    "name": "ipython",
    "version": 3
   },
   "file_extension": ".py",
   "mimetype": "text/x-python",
   "name": "python",
   "nbconvert_exporter": "python",
   "pygments_lexer": "ipython3",
   "version": "3.8.5"
  }
 },
 "nbformat": 4,
 "nbformat_minor": 4
}
