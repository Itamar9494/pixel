{
 "cells": [
  {
   "cell_type": "code",
   "execution_count": 42,
   "metadata": {},
   "outputs": [
    {
     "name": "stdout",
     "output_type": "stream",
     "text": [
      "זמן הרצת הקוד הוא:  0.0009586811065673828 שניות\n"
     ]
    }
   ],
   "source": [
    "\n",
    "import time\n",
    "\n",
    "start_time = time.time()\n",
    "\n",
    "# כאן נכתוב את הקוד שאנו רוצים למדוד את זמן הרצתו\n",
    "\n",
    "end_time = time.time()\n",
    "total_time = end_time - start_time\n",
    "print(\"זמן הרצת הקוד הוא: \", total_time, \"שניות\")"
   ]
  },
  {
   "cell_type": "code",
   "execution_count": null,
   "metadata": {},
   "outputs": [],
   "source": [
    "def image_shrink_1(im, lines, columns):\n",
    "    shape = im.shape\n",
    "    lin_fac = shape[0]//lines\n",
    "    col_fac = shape[1]//columns\n",
    "    new_mat = np.zeros((shape[0]//lin_fac, shape[1]//col_fac))\n",
    "    for i in range(new_mat.shape[0]):\n",
    "        for j in range(new_mat.shape[1]):\n",
    "            line_range = range(i*lin_fac,min((i+1)*lin_fac,im.shape[1]))\n",
    "            col_range = range(j*col_fac,min((j+1)*col_fac,im.shape[1]))\n",
    "            new_mat[i,j] = im[i*lin_fac:min((i+1)*lin_fac,im.shape[1]),j*col_fac:min((j+1)*col_fac,im.shape[1])].mean()\n",
    "    return new_mat\n",
    "\n",
    "def image_shrink_2(im, lines, columns):\n",
    "    shape = im.shape\n",
    "    lin_fac = shape[0]//lines\n",
    "    col_fac = shape[1]//columns\n",
    "    new_mat = np.zeros((shape[0]//lin_fac, shape[1]//col_fac))\n",
    "    for i in range(new_mat.shape[0]):\n",
    "        for j in range(new_mat.shape[1]):\n",
    "            line_range = range(max(0, i*lin_fac),min((i+1)*lin_fac,im.shape[1]))\n",
    "            col_range = range(max(0, j*col_fac),min((j+1)*col_fac,im.shape[1]))\n",
    "            new_mat[i,j] = im[i*lin_fac:min((i+1)*lin_fac,im.shape[1]),j*col_fac:min((j+1)*col_fac,im.shape[1])].mean()\n",
    "    return new_mat\n",
    "\n",
    "def image_shrink_3(im, lines, columns):\n",
    "    shape = im.shape\n",
    "    lin_fac = shape[0]//lines\n",
    "    col_fac = shape[1]//columns\n",
    "    new_mat = np.zeros((shape[0]//lin_fac, shape[1]//col_fac))\n",
    "    for i in range(new_mat.shape[0]):\n",
    "        for j in range(new_mat.shape[1]):\n",
    "            line_range = range(max(0, i*lin_fac//2),min((i+1)*lin_fac//2,im.shape[1]))\n",
    "            col_range = range(max(0, j*col_fac//2),min((j+1)*col_fac//2,im.shape[1]))\n",
    "            new_mat[i,j] = im[i*lin_fac:min((i+1)*lin_fac,im.shape[1]),j*col_fac:min((j+1)*col_fac,im.shape[1])].mean()\n",
    "    return new_mat\n",
    "\n",
    "\n",
    "# im = imageio.imread('files/IMG-20210810-WA0070.jpg')\n",
    "# mat_1 = image_shrink_1(im, 100, 160)\n",
    "# mat_11 = im2numbers(mat_1, 7)\n",
    "# mat_2 = image_shrink_2(im, 100, 160)\n",
    "# mat_22 = im2numbers(mat_2, 7)\n",
    "# mat_3 = image_shrink_3(im, 100, 160)\n",
    "# mat_33 = im2numbers(mat_3, 7)\n",
    "# plt.figure('aaa')\n",
    "# plt.imshow(im, cmap=plt.cm.gray)\n",
    "# plt.show()\n",
    "# plt.figure()\n",
    "# plt.imshow(mat_1, cmap=plt.cm.gray)\n",
    "# plt.show()\n",
    "# plt.figure()\n",
    "# plt.imshow(mat_11, cmap=plt.cm.gray)\n",
    "# plt.show()\n",
    "# plt.figure()\n",
    "# plt.imshow(mat_2, cmap=plt.cm.gray)\n",
    "# plt.show()\n",
    "# plt.figure()\n",
    "# plt.imshow(mat_22, cmap=plt.cm.gray)\n",
    "# plt.show()\n",
    "# plt.figure()\n",
    "# plt.imshow(mat_3, cmap=plt.cm.gray)\n",
    "# plt.show()\n",
    "# plt.figure()\n",
    "# plt.imshow(mat_33, cmap=plt.cm.gray)\n",
    "# plt.show()"
   ]
  }
 ],
 "metadata": {
  "kernelspec": {
   "display_name": "Python 3",
   "language": "python",
   "name": "python3"
  },
  "language_info": {
   "codemirror_mode": {
    "name": "ipython",
    "version": 3
   },
   "file_extension": ".py",
   "mimetype": "text/x-python",
   "name": "python",
   "nbconvert_exporter": "python",
   "pygments_lexer": "ipython3",
   "version": "3.8.5"
  }
 },
 "nbformat": 4,
 "nbformat_minor": 4
}
